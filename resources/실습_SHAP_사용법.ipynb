{
 "cells": [
  {
   "cell_type": "markdown",
   "metadata": {},
   "source": [
    "# 프로젝트명: XAI(eXplanable AI) 실습 2 (SHapley Additive exPlanation - SHAP)\n",
    "\n",
    "#### 📌 PDP와는 다르게, 변수 간 관계(의존성)까지 고려해서 모델영향력을 계산합니다. (개별 데이터에 대하여) \n",
    "- PDP - 전역적, SHAP - 지역적 \n",
    "- SHAP의 단점은 데이터가 많아지면 계산량이 많아지고, 새로운 이상치의 등장에 약합니다. \n",
    "\n",
    "#### 🚨 주의사항\n",
    "- XAI 기법은 모델의 예측값을 설명하기 위한 것이므로, 현상 자체를 설명하는 것이 아닙니다. (물리법칙, 타 도메인 법칙들)\n",
    "- 원인과 결과를 나타내는 인과추론이 아니라, 상관관계에 가깝기 때문에 인과추론을 위해선 해당 도메인 지식이 반드시 필요합니다.\n",
    "\n",
    "### 1. 일반적인 모델 결과 해석방법 (선형회귀모델)\n",
    "\n",
    "#### 실습 데이터 : 보스턴 부동산 데이터셋\n",
    "\n",
    "- [X] CRIM: 도시별 범죄발생률\n",
    "- [X] ZN: 25,000평을 넘는 토지의 비율\n",
    "- [X] INDUS: 도시별 비상업 지구의 비유\n",
    "- [X] CHAS: 찰스 강의 더미 변수(1 = 강의 경계, 0 = 나머지)\n",
    "- [X] NOX: 일산화질소 농도\n",
    "- [X] RM: 주거할 수 있는 평균 방의개수\n",
    "- [X] AGE: 1940년 이전에 지어진 주택의 비율\n",
    "- [X] DIS: 5개의 고용지원센터까지의 가중치가 고려된 거리\n",
    "- [X] RAD: 고속도로의 접근 용이성에 대한 지표\n",
    "- [X] TAX: 10,000달러당 재산세 비율\n",
    "- [X] PTRATIO: 도시별 교사와 학생의 비율\n",
    "- [X] B: 도시의 흑인 거주 비유\n",
    "- [X] LSTAT: 저소득층의 비율\n",
    "- [Y] MEDV: 본인 소유 주택 가격의 중앙값"
   ]
  },
  {
   "cell_type": "code",
   "execution_count": null,
   "metadata": {},
   "outputs": [],
   "source": [
    "import warnings\n",
    "warnings.filterwarnings('ignore')\n",
    "\n",
    "import shap \n",
    "from sklearn.model_selection import train_test_split\n",
    "import pandas as pd\n",
    "\n",
    "import ssl\n",
    "ssl._create_default_https_context = ssl._create_unverified_context\n",
    "\n",
    "## 보스턴 데이터\n",
    "data = pd.read_csv(\"https://blog.kakaocdn.net/dn/xjHHl/btsvj90VSNh/Pjhm2ucmtqgEuXqjnrV2q0/boston_data.csv?attach=1&knm=tfile.csv\")\n",
    "df = data[data.columns[:-1]]\n",
    "X = df\n",
    "X_features = X.columns[:-1]\n",
    "\n",
    "y = data['MEDV']\n",
    "\n",
    "X.head()"
   ]
  }
 ],
 "metadata": {
  "language_info": {
   "name": "python"
  }
 },
 "nbformat": 4,
 "nbformat_minor": 2
}
